{
 "cells": [
  {
   "cell_type": "code",
   "execution_count": 1,
   "metadata": {
    "collapsed": false
   },
   "outputs": [],
   "source": [
    "%load_ext autoreload\n",
    "%autoreload 2"
   ]
  },
  {
   "cell_type": "code",
   "execution_count": 35,
   "metadata": {
    "collapsed": true
   },
   "outputs": [],
   "source": [
    "from data_preprocessing import prepare_data\n",
    "from ppjoin import ppjoin\n"
   ]
  },
  {
   "cell_type": "code",
   "execution_count": 5,
   "metadata": {
    "collapsed": false
   },
   "outputs": [],
   "source": [
    "path = 'data/miami1000.pkl'\n",
    "df = prepare_data(path)"
   ]
  },
  {
   "cell_type": "code",
   "execution_count": 36,
   "metadata": {
    "collapsed": false
   },
   "outputs": [],
   "source": [
    "def pos_filter(id_x, pos_x, id_y, pos_y, id_dict, ordering, theta):\n",
    "    text_x = canonicalize(id_dict[id_x], ordering)\n",
    "    text_y = canonicalize(id_dict[id_y], ordering)\n",
    "    max_overlap = min(len(text_x) - pos_x - 1, len(text_y) - pos_y - 1)\n",
    "\n",
    "    for word in text_x[:pos_x+1]:\n",
    "        if word in text_y[:pos_y+1]:\n",
    "            max_overlap += 1\n",
    "\n",
    "    sim = 1.0 * max_overlap / (len(text_x) + len(text_y) - max_overlap)\n",
    "    if sim > theta:\n",
    "        return True\n",
    "    else:\n",
    "        return False"
   ]
  },
  {
   "cell_type": "code",
   "execution_count": null,
   "metadata": {
    "collapsed": true
   },
   "outputs": [],
   "source": []
  }
 ],
 "metadata": {
  "kernelspec": {
   "display_name": "Python 2",
   "language": "python",
   "name": "python2"
  },
  "language_info": {
   "codemirror_mode": {
    "name": "ipython",
    "version": 2
   },
   "file_extension": ".py",
   "mimetype": "text/x-python",
   "name": "python",
   "nbconvert_exporter": "python",
   "pygments_lexer": "ipython2",
   "version": "2.7.11"
  }
 },
 "nbformat": 4,
 "nbformat_minor": 0
}
