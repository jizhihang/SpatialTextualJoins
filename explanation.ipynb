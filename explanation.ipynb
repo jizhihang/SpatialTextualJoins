{
 "cells": [
  {
   "cell_type": "code",
   "execution_count": 1,
   "metadata": {
    "collapsed": false
   },
   "outputs": [],
   "source": [
    "%load_ext autoreload\n",
    "%autoreload 2"
   ]
  },
  {
   "cell_type": "code",
   "execution_count": 157,
   "metadata": {
    "collapsed": true
   },
   "outputs": [],
   "source": [
    "import numpy as np\n",
    "import pandas as pd\n",
    "\n",
    "from data_preprocessing import prepare_data, get_inverted_file\n",
    "from ppjoin import ppjoin\n"
   ]
  },
  {
   "cell_type": "code",
   "execution_count": 158,
   "metadata": {
    "collapsed": true
   },
   "outputs": [],
   "source": [
    "df = prepare_data('data/miami1000.pkl')\n",
    "inverted_file = get_inverted_file(df)"
   ]
  },
  {
   "cell_type": "code",
   "execution_count": 161,
   "metadata": {
    "collapsed": false
   },
   "outputs": [
    {
     "data": {
      "text/plain": [
       "{('5717b0662a2ce10c1e62d075', '5717b24b2a2ce10c1e62e6a2'): 0,\n",
       " ('5717b0a32a2ce10c1e62d308', '5717b0a32a2ce10c1e62d30f'): 0,\n",
       " ('5717b0a32a2ce10c1e62d33b', '5717c4c42a2ce10c1e62f8f8'): 0,\n",
       " ('5717b0a32a2ce10c1e62d358', '5717b0e02a2ce10c1e62d7ca'): 0,\n",
       " ('5717b11c2a2ce10c1e62da76', '5717b3012a2ce10c1e62efec'): 0,\n",
       " ('5717b11c2a2ce10c1e62daa1', '5717b1952a2ce10c1e62df23'): 0,\n",
       " ('5717b1592a2ce10c1e62dd3d', '5717b1d22a2ce10c1e62e1fd'): 0,\n",
       " ('5717b1592a2ce10c1e62dd3f', '5717b1d22a2ce10c1e62e205'): 0,\n",
       " ('5717b1592a2ce10c1e62dd42', '5717b1592a2ce10c1e62dd64'): 0,\n",
       " ('5717b1952a2ce10c1e62df34', '5717b1d22a2ce10c1e62e1ee'): 0,\n",
       " ('5717b1952a2ce10c1e62df37', '5717b1d22a2ce10c1e62e1f0'): 0,\n",
       " ('5717b20e2a2ce10c1e62e4b0', '5717b24b2a2ce10c1e62e681'): 0,\n",
       " ('5717b24b2a2ce10c1e62e69e', '5717b2872a2ce10c1e62e937'): 0,\n",
       " ('5717b2872a2ce10c1e62e95e', '5717b2c42a2ce10c1e62eb75'): 0,\n",
       " ('5717b2c42a2ce10c1e62eb82', '5717b3432a2ce10c1e62f211'): 0,\n",
       " ('5717b2c42a2ce10c1e62eb97', '5717b3432a2ce10c1e62f212'): 0,\n",
       " ('5717b2c42a2ce10c1e62eba7', '5717b3012a2ce10c1e62f000'): 0,\n",
       " ('5717b3432a2ce10c1e62f206', '5717c4c42a2ce10c1e62f8ce'): 0,\n",
       " ('5717b3802a2ce10c1e62f606', '5717c4c42a2ce10c1e62f8b1'): 0,\n",
       " ('5717c4c42a2ce10c1e62f8d3', '5717c4c42a2ce10c1e62f8fa'): 0}"
      ]
     },
     "execution_count": 161,
     "metadata": {},
     "output_type": "execute_result"
    }
   ],
   "source": [
    "ppjoin(df, inverted_file, 0.5)"
   ]
  },
  {
   "cell_type": "code",
   "execution_count": null,
   "metadata": {
    "collapsed": true
   },
   "outputs": [],
   "source": []
  }
 ],
 "metadata": {
  "kernelspec": {
   "display_name": "Python 2",
   "language": "python",
   "name": "python2"
  },
  "language_info": {
   "codemirror_mode": {
    "name": "ipython",
    "version": 2
   },
   "file_extension": ".py",
   "mimetype": "text/x-python",
   "name": "python",
   "nbconvert_exporter": "python",
   "pygments_lexer": "ipython2",
   "version": "2.7.11"
  }
 },
 "nbformat": 4,
 "nbformat_minor": 0
}
